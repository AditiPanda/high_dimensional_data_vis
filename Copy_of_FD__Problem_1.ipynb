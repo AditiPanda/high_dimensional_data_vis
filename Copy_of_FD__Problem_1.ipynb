{
  "nbformat": 4,
  "nbformat_minor": 0,
  "metadata": {
    "colab": {
      "name": "Copy of FD_ Problem 1.ipynb",
      "provenance": [],
      "collapsed_sections": [],
      "include_colab_link": true
    },
    "kernelspec": {
      "name": "python3",
      "display_name": "Python 3"
    },
    "language_info": {
      "name": "python"
    }
  },
  "cells": [
    {
      "cell_type": "markdown",
      "metadata": {
        "id": "view-in-github",
        "colab_type": "text"
      },
      "source": [
        "<a href=\"https://colab.research.google.com/github/AditiPanda/high_dimensional_data_vis/blob/main/Copy_of_FD__Problem_1.ipynb\" target=\"_parent\"><img src=\"https://colab.research.google.com/assets/colab-badge.svg\" alt=\"Open In Colab\"/></a>"
      ]
    },
    {
      "cell_type": "markdown",
      "source": [
        "# Problem Statement:\n",
        "Given a new datapoint we have to predict the Activity. "
      ],
      "metadata": {
        "id": "jO4-OsQ20rNN"
      }
    },
    {
      "cell_type": "markdown",
      "source": [
        "# Dataset Description\n",
        "\n",
        "\n",
        "This project is to build a model that predicts the human activities such as Walking, Walking_Upstairs, Walking_Downstairs, Sitting, Standing or Laying.\n",
        "\n",
        "This dataset is collected from 30 persons(referred as subjects in this dataset), performing different activities with a smartphone to their waists. The data is recorded with the help of sensors (accelerometer and Gyroscope) in that smartphone. This experiment was video recorded to label the data manually.\n",
        "\n",
        "## How data was recorded\n",
        "\n",
        "By using the sensors(Gyroscope and accelerometer) in a smartphone, they have captured '3-axial linear acceleration'(tAcc-XYZ) from accelerometer and '3-axial angular velocity' (tGyro-XYZ) from Gyroscope with several variations.\n",
        "\n",
        "prefix 't' in those metrics denotes time.\n",
        "\n",
        "suffix 'XYZ' represents 3-axial signals in X , Y, and Z directions."
      ],
      "metadata": {
        "id": "YhcsDBs50vn4"
      }
    },
    {
      "cell_type": "markdown",
      "source": [
        "## Feature Names\n",
        "1. These sensor signals are preprocessed by applying noise filters and then sampled in fixed-width windows(sliding windows) of 2.56 seconds each with 50% overlap. ie., each window has 128 readings.\n",
        "\n",
        "2. From Each window, a feature vector was obtianed by calculating variables from the time and frequency domain. In the dataset, each datapoint represents a window with different readings\n",
        "\n",
        "3. The accelertion signal was saperated into Body and Gravity acceleration signals(tBodyAcc-XYZ and tGravityAcc-XYZ) using some low pass filter with corner frequecy of 0.3Hz.\n",
        "\n",
        "4. After that, the body linear acceleration and angular velocity were derived in time to obtian jerk signals (tBodyAccJerk-XYZ and tBodyGyroJerk-XYZ).\n",
        "\n",
        "5. The magnitude of these 3-dimensional signals were calculated using the Euclidian norm. This magnitudes are represented as features with names like tBodyAccMag, tGravityAccMag, tBodyAccJerkMag, tBodyGyroMag and tBodyGyroJerkMag.\n",
        "\n",
        "6. Finally, We've got frequency domain signals from some of the available signals by applying a FFT (Fast Fourier Transform). These signals obtained were labeled with prefix 'f' just like original signals with prefix 't'. These signals are labeled as fBodyAcc-XYZ, fBodyGyroMag etc.,.\n",
        "\n",
        "7. These are the signals that we got so far.\n",
        "\n",
        "  - tBodyAcc-XYZ\n",
        "  - tGravityAcc-XYZ\n",
        "  - tBodyAccJerk-XYZ\n",
        "  - tBodyGyro-XYZ\n",
        "  - tBodyGyroJerk-XYZ\n",
        "  - tBodyAccMag\n",
        "  - tGravityAccMag\n",
        "  - tBodyAccJerkMag\n",
        "  - tBodyGyroMag\n",
        "  - tBodyGyroJerkMag\n",
        "  - fBodyAcc-XYZ\n",
        "  - fBodyAccJerk-XYZ\n",
        "  - fBodyGyro-XYZ\n",
        "  - fBodyAccMag\n",
        "  - fBodyAccJerkMag\n",
        "  - fBodyGyroMag\n",
        "  - fBodyGyroJerkMag\n",
        "8. We can esitmate some set of variables from the above signals. ie., We will estimate the following properties on each and every signal that we recoreded so far.\n",
        "\n",
        "  - mean(): Mean value\n",
        "  - std(): Standard deviation\n",
        "  - mad(): Median absolute deviation\n",
        "  - max(): Largest value in array\n",
        "  - min(): Smallest value in array\n",
        "  - sma(): Signal magnitude area\n",
        "  - energy(): Energy measure. Sum of the squares divided by the number of values.\n",
        "  - iqr(): Interquartile range\n",
        "  - entropy(): Signal entropy\n",
        "  - arCoeff(): Autorregresion coefficients with Burg order equal to 4\n",
        "  - correlation(): correlation coefficient between two signals\n",
        "  - maxInds(): index of the frequency component with largest magnitude\n",
        "  - meanFreq(): Weighted average of the frequency components to obtain a mean frequency\n",
        "  - skewness(): skewness of the frequency domain signal\n",
        "  - kurtosis(): kurtosis of the frequency domain signal\n",
        "  - bandsEnergy(): Energy of a frequency interval within the 64 bins of the FFT of each window.\n",
        "  - angle(): Angle between to vectors.\n",
        "\n",
        "9. We can obtain some other vectors by taking the average of signals in a single window sample. These are used on the angle() variable' `\n",
        "\n",
        "  - gravityMean\n",
        "  - tBodyAccMean\n",
        "  - tBodyAccJerkMean\n",
        "  - tBodyGyroMean\n",
        "  - tBodyGyroJerkMean\n",
        "\n"
      ],
      "metadata": {
        "id": "VsTc0WmP1DmS"
      }
    },
    {
      "cell_type": "markdown",
      "source": [
        "## Y_Labels(Encoded)\n",
        "In the dataset, Y_labels are represented as numbers from 1 to 6 as their identifiers.\n",
        "\n",
        "  - WALKING as 1\n",
        "  - WALKING_UPSTAIRS as 2\n",
        "  - WALKING_DOWNSTAIRS as 3\n",
        "  - SITTING as 4\n",
        "  - STANDING as 5\n",
        "  - LAYING as 6\n",
        "\n",
        "## Train and test data were saperated\n",
        "- The readings from 70% of the volunteers were taken as trianing data and remaining 30% subjects recordings were taken for test data\n",
        "\n",
        "## Data\n",
        "- All the data is present in 'UCI_HAR_dataset/' folder in present working directory.\n",
        "  - Feature names are present in 'UCI_HAR_dataset/features.txt'\n",
        "  - **Train Data**\n",
        "  - 'UCI_HAR_dataset/train/X_train.txt'\n",
        "  - 'UCI_HAR_dataset/train/subject_train.txt'\n",
        "  - 'UCI_HAR_dataset/train/y_train.txt'\n",
        "\n",
        "  - **Test Data**\n",
        "  -'UCI_HAR_dataset/test/X_test.txt'\n",
        "  -'UCI_HAR_dataset/test/subject_test.txt'\n",
        "  -'UCI_HAR_dataset/test/y_test.txt'"
      ],
      "metadata": {
        "id": "hLpicKt01-B5"
      }
    },
    {
      "cell_type": "markdown",
      "source": [
        "# Quick overview of the dataset\n",
        "\n",
        "Accelerometer and Gyroscope readings are taken from 30 volunteers(referred as subjects) while performing the following 6 Activities.\n",
        "\n",
        "- Walking\n",
        "- WalkingUpstairs\n",
        "- WalkingDownstairs\n",
        "- Standing\n",
        "- Sitting\n",
        "- Lying.\n",
        "\n",
        "Readings are divided into a window of 2.56 seconds with 50% overlapping.\n",
        "\n",
        "Accelerometer readings are divided into gravity acceleration and body acceleration readings, which has x,y and z components each.\n",
        "\n",
        "Gyroscope readings are the measure of angular velocities which has x,y and z components.\n",
        "\n",
        "Jerk signals are calculated for BodyAcceleration readings.\n",
        "\n",
        "Fourier Transforms are made on the above time readings to obtain frequency readings.\n",
        "\n",
        "Now, on all the base signal readings., mean, max, mad, sma, arcoefficient, engerybands,entropy etc., are calculated for each window.\n",
        "\n",
        "We get a feature vector of 561 features and these features are given in the dataset.\n",
        "\n",
        "Each window of readings is a datapoint of 561 features.\n",
        "\n",
        "## Problem Framework\n",
        "- 30 subjects(volunteers) data is randomly split to 70%(21) test and 30%(7) train data.\n",
        "- Each datapoint corresponds one of the 6 Activities."
      ],
      "metadata": {
        "id": "D09kdMZR2zuX"
      }
    },
    {
      "cell_type": "markdown",
      "source": [
        "# Obtain the train and test data"
      ],
      "metadata": {
        "id": "vfcWT9Aw3NEy"
      }
    },
    {
      "cell_type": "code",
      "source": [
        "# mount drive to load dataset\n",
        "from google.colab import drive\n",
        "drive.mount('/content/drive')"
      ],
      "metadata": {
        "colab": {
          "base_uri": "https://localhost:8080/"
        },
        "id": "IWRLBSzi_yHw",
        "outputId": "de2e8bfb-0114-4dc5-cc4c-454a2989ef74"
      },
      "execution_count": null,
      "outputs": [
        {
          "output_type": "stream",
          "name": "stdout",
          "text": [
            "Mounted at /content/drive\n"
          ]
        }
      ]
    },
    {
      "cell_type": "code",
      "source": [
        "# read train data into a dataframe\n",
        "import pandas as pd\n",
        "train_df = pd.read_csv('/content/drive/MyDrive/FD_Datasets-20220317T081817Z-001/FD_Datasets/f_train.csv')\n",
        "train_df.shape"
      ],
      "metadata": {
        "id": "Etf5cWxH3LxJ",
        "colab": {
          "base_uri": "https://localhost:8080/"
        },
        "outputId": "31a1ca6d-fd1f-44d0-b773-520bd297d482"
      },
      "execution_count": null,
      "outputs": [
        {
          "output_type": "execute_result",
          "data": {
            "text/plain": [
              "(7352, 563)"
            ]
          },
          "metadata": {},
          "execution_count": 2
        }
      ]
    },
    {
      "cell_type": "code",
      "source": [
        "# read train data into a dataframe\n",
        "test_df = pd.read_csv('/content/drive/MyDrive/FD_Datasets-20220317T081817Z-001/FD_Datasets/f_test.csv')\n",
        "test_df.shape"
      ],
      "metadata": {
        "colab": {
          "base_uri": "https://localhost:8080/"
        },
        "id": "_6EHLqDHBLmz",
        "outputId": "e25b0a92-ab15-401d-a497-23aad2b0b00a"
      },
      "execution_count": null,
      "outputs": [
        {
          "output_type": "execute_result",
          "data": {
            "text/plain": [
              "(2947, 563)"
            ]
          },
          "metadata": {},
          "execution_count": 3
        }
      ]
    },
    {
      "cell_type": "markdown",
      "source": [
        "# Data Cleaning"
      ],
      "metadata": {
        "id": "KYDi20g83RoQ"
      }
    },
    {
      "cell_type": "code",
      "source": [
        "# first five rows of train data\n",
        "train_df.head()"
      ],
      "metadata": {
        "id": "H4LTjR7n3WIY",
        "colab": {
          "base_uri": "https://localhost:8080/",
          "height": 300
        },
        "outputId": "d4a3bbb9-62e2-4351-d7d8-2ccb5e0a08b3"
      },
      "execution_count": null,
      "outputs": [
        {
          "output_type": "execute_result",
          "data": {
            "text/plain": [
              "   tBodyAccmeanX  tBodyAccmeanY  tBodyAccmeanZ  tBodyAccstdX  tBodyAccstdY  \\\n",
              "0       0.288585      -0.020294      -0.132905     -0.995279     -0.983111   \n",
              "1       0.278419      -0.016411      -0.123520     -0.998245     -0.975300   \n",
              "2       0.279653      -0.019467      -0.113462     -0.995380     -0.967187   \n",
              "3       0.279174      -0.026201      -0.123283     -0.996091     -0.983403   \n",
              "4       0.276629      -0.016570      -0.115362     -0.998139     -0.980817   \n",
              "\n",
              "   tBodyAccstdZ  tBodyAccmadX  tBodyAccmadY  tBodyAccmadZ  tBodyAccmaxX  ...  \\\n",
              "0     -0.913526     -0.995112     -0.983185     -0.923527     -0.934724  ...   \n",
              "1     -0.960322     -0.998807     -0.974914     -0.957686     -0.943068  ...   \n",
              "2     -0.978944     -0.996520     -0.963668     -0.977469     -0.938692  ...   \n",
              "3     -0.990675     -0.997099     -0.982750     -0.989302     -0.938692  ...   \n",
              "4     -0.990482     -0.998321     -0.979672     -0.990441     -0.942469  ...   \n",
              "\n",
              "   fBodyBodyGyroJerkMagkurtosis  angletBodyAccMeangravity  \\\n",
              "0                     -0.710304                 -0.112754   \n",
              "1                     -0.861499                  0.053477   \n",
              "2                     -0.760104                 -0.118559   \n",
              "3                     -0.482845                 -0.036788   \n",
              "4                     -0.699205                  0.123320   \n",
              "\n",
              "   angletBodyAccJerkMeangravityMean  angletBodyGyroMeangravityMean  \\\n",
              "0                          0.030400                      -0.464761   \n",
              "1                         -0.007435                      -0.732626   \n",
              "2                          0.177899                       0.100699   \n",
              "3                         -0.012892                       0.640011   \n",
              "4                          0.122542                       0.693578   \n",
              "\n",
              "   angletBodyGyroJerkMeangravityMean  angleXgravityMean  angleYgravityMean  \\\n",
              "0                          -0.018446          -0.841247           0.179941   \n",
              "1                           0.703511          -0.844788           0.180289   \n",
              "2                           0.808529          -0.848933           0.180637   \n",
              "3                          -0.485366          -0.848649           0.181935   \n",
              "4                          -0.615971          -0.847865           0.185151   \n",
              "\n",
              "   angleZgravityMean  subject  Activity  \n",
              "0          -0.058627        1  STANDING  \n",
              "1          -0.054317        1  STANDING  \n",
              "2          -0.049118        1  STANDING  \n",
              "3          -0.047663        1  STANDING  \n",
              "4          -0.043892        1  STANDING  \n",
              "\n",
              "[5 rows x 563 columns]"
            ],
            "text/html": [
              "\n",
              "  <div id=\"df-6e321ee7-8ccd-4934-a94b-a3e3f388cf89\">\n",
              "    <div class=\"colab-df-container\">\n",
              "      <div>\n",
              "<style scoped>\n",
              "    .dataframe tbody tr th:only-of-type {\n",
              "        vertical-align: middle;\n",
              "    }\n",
              "\n",
              "    .dataframe tbody tr th {\n",
              "        vertical-align: top;\n",
              "    }\n",
              "\n",
              "    .dataframe thead th {\n",
              "        text-align: right;\n",
              "    }\n",
              "</style>\n",
              "<table border=\"1\" class=\"dataframe\">\n",
              "  <thead>\n",
              "    <tr style=\"text-align: right;\">\n",
              "      <th></th>\n",
              "      <th>tBodyAccmeanX</th>\n",
              "      <th>tBodyAccmeanY</th>\n",
              "      <th>tBodyAccmeanZ</th>\n",
              "      <th>tBodyAccstdX</th>\n",
              "      <th>tBodyAccstdY</th>\n",
              "      <th>tBodyAccstdZ</th>\n",
              "      <th>tBodyAccmadX</th>\n",
              "      <th>tBodyAccmadY</th>\n",
              "      <th>tBodyAccmadZ</th>\n",
              "      <th>tBodyAccmaxX</th>\n",
              "      <th>...</th>\n",
              "      <th>fBodyBodyGyroJerkMagkurtosis</th>\n",
              "      <th>angletBodyAccMeangravity</th>\n",
              "      <th>angletBodyAccJerkMeangravityMean</th>\n",
              "      <th>angletBodyGyroMeangravityMean</th>\n",
              "      <th>angletBodyGyroJerkMeangravityMean</th>\n",
              "      <th>angleXgravityMean</th>\n",
              "      <th>angleYgravityMean</th>\n",
              "      <th>angleZgravityMean</th>\n",
              "      <th>subject</th>\n",
              "      <th>Activity</th>\n",
              "    </tr>\n",
              "  </thead>\n",
              "  <tbody>\n",
              "    <tr>\n",
              "      <th>0</th>\n",
              "      <td>0.288585</td>\n",
              "      <td>-0.020294</td>\n",
              "      <td>-0.132905</td>\n",
              "      <td>-0.995279</td>\n",
              "      <td>-0.983111</td>\n",
              "      <td>-0.913526</td>\n",
              "      <td>-0.995112</td>\n",
              "      <td>-0.983185</td>\n",
              "      <td>-0.923527</td>\n",
              "      <td>-0.934724</td>\n",
              "      <td>...</td>\n",
              "      <td>-0.710304</td>\n",
              "      <td>-0.112754</td>\n",
              "      <td>0.030400</td>\n",
              "      <td>-0.464761</td>\n",
              "      <td>-0.018446</td>\n",
              "      <td>-0.841247</td>\n",
              "      <td>0.179941</td>\n",
              "      <td>-0.058627</td>\n",
              "      <td>1</td>\n",
              "      <td>STANDING</td>\n",
              "    </tr>\n",
              "    <tr>\n",
              "      <th>1</th>\n",
              "      <td>0.278419</td>\n",
              "      <td>-0.016411</td>\n",
              "      <td>-0.123520</td>\n",
              "      <td>-0.998245</td>\n",
              "      <td>-0.975300</td>\n",
              "      <td>-0.960322</td>\n",
              "      <td>-0.998807</td>\n",
              "      <td>-0.974914</td>\n",
              "      <td>-0.957686</td>\n",
              "      <td>-0.943068</td>\n",
              "      <td>...</td>\n",
              "      <td>-0.861499</td>\n",
              "      <td>0.053477</td>\n",
              "      <td>-0.007435</td>\n",
              "      <td>-0.732626</td>\n",
              "      <td>0.703511</td>\n",
              "      <td>-0.844788</td>\n",
              "      <td>0.180289</td>\n",
              "      <td>-0.054317</td>\n",
              "      <td>1</td>\n",
              "      <td>STANDING</td>\n",
              "    </tr>\n",
              "    <tr>\n",
              "      <th>2</th>\n",
              "      <td>0.279653</td>\n",
              "      <td>-0.019467</td>\n",
              "      <td>-0.113462</td>\n",
              "      <td>-0.995380</td>\n",
              "      <td>-0.967187</td>\n",
              "      <td>-0.978944</td>\n",
              "      <td>-0.996520</td>\n",
              "      <td>-0.963668</td>\n",
              "      <td>-0.977469</td>\n",
              "      <td>-0.938692</td>\n",
              "      <td>...</td>\n",
              "      <td>-0.760104</td>\n",
              "      <td>-0.118559</td>\n",
              "      <td>0.177899</td>\n",
              "      <td>0.100699</td>\n",
              "      <td>0.808529</td>\n",
              "      <td>-0.848933</td>\n",
              "      <td>0.180637</td>\n",
              "      <td>-0.049118</td>\n",
              "      <td>1</td>\n",
              "      <td>STANDING</td>\n",
              "    </tr>\n",
              "    <tr>\n",
              "      <th>3</th>\n",
              "      <td>0.279174</td>\n",
              "      <td>-0.026201</td>\n",
              "      <td>-0.123283</td>\n",
              "      <td>-0.996091</td>\n",
              "      <td>-0.983403</td>\n",
              "      <td>-0.990675</td>\n",
              "      <td>-0.997099</td>\n",
              "      <td>-0.982750</td>\n",
              "      <td>-0.989302</td>\n",
              "      <td>-0.938692</td>\n",
              "      <td>...</td>\n",
              "      <td>-0.482845</td>\n",
              "      <td>-0.036788</td>\n",
              "      <td>-0.012892</td>\n",
              "      <td>0.640011</td>\n",
              "      <td>-0.485366</td>\n",
              "      <td>-0.848649</td>\n",
              "      <td>0.181935</td>\n",
              "      <td>-0.047663</td>\n",
              "      <td>1</td>\n",
              "      <td>STANDING</td>\n",
              "    </tr>\n",
              "    <tr>\n",
              "      <th>4</th>\n",
              "      <td>0.276629</td>\n",
              "      <td>-0.016570</td>\n",
              "      <td>-0.115362</td>\n",
              "      <td>-0.998139</td>\n",
              "      <td>-0.980817</td>\n",
              "      <td>-0.990482</td>\n",
              "      <td>-0.998321</td>\n",
              "      <td>-0.979672</td>\n",
              "      <td>-0.990441</td>\n",
              "      <td>-0.942469</td>\n",
              "      <td>...</td>\n",
              "      <td>-0.699205</td>\n",
              "      <td>0.123320</td>\n",
              "      <td>0.122542</td>\n",
              "      <td>0.693578</td>\n",
              "      <td>-0.615971</td>\n",
              "      <td>-0.847865</td>\n",
              "      <td>0.185151</td>\n",
              "      <td>-0.043892</td>\n",
              "      <td>1</td>\n",
              "      <td>STANDING</td>\n",
              "    </tr>\n",
              "  </tbody>\n",
              "</table>\n",
              "<p>5 rows × 563 columns</p>\n",
              "</div>\n",
              "      <button class=\"colab-df-convert\" onclick=\"convertToInteractive('df-6e321ee7-8ccd-4934-a94b-a3e3f388cf89')\"\n",
              "              title=\"Convert this dataframe to an interactive table.\"\n",
              "              style=\"display:none;\">\n",
              "        \n",
              "  <svg xmlns=\"http://www.w3.org/2000/svg\" height=\"24px\"viewBox=\"0 0 24 24\"\n",
              "       width=\"24px\">\n",
              "    <path d=\"M0 0h24v24H0V0z\" fill=\"none\"/>\n",
              "    <path d=\"M18.56 5.44l.94 2.06.94-2.06 2.06-.94-2.06-.94-.94-2.06-.94 2.06-2.06.94zm-11 1L8.5 8.5l.94-2.06 2.06-.94-2.06-.94L8.5 2.5l-.94 2.06-2.06.94zm10 10l.94 2.06.94-2.06 2.06-.94-2.06-.94-.94-2.06-.94 2.06-2.06.94z\"/><path d=\"M17.41 7.96l-1.37-1.37c-.4-.4-.92-.59-1.43-.59-.52 0-1.04.2-1.43.59L10.3 9.45l-7.72 7.72c-.78.78-.78 2.05 0 2.83L4 21.41c.39.39.9.59 1.41.59.51 0 1.02-.2 1.41-.59l7.78-7.78 2.81-2.81c.8-.78.8-2.07 0-2.86zM5.41 20L4 18.59l7.72-7.72 1.47 1.35L5.41 20z\"/>\n",
              "  </svg>\n",
              "      </button>\n",
              "      \n",
              "  <style>\n",
              "    .colab-df-container {\n",
              "      display:flex;\n",
              "      flex-wrap:wrap;\n",
              "      gap: 12px;\n",
              "    }\n",
              "\n",
              "    .colab-df-convert {\n",
              "      background-color: #E8F0FE;\n",
              "      border: none;\n",
              "      border-radius: 50%;\n",
              "      cursor: pointer;\n",
              "      display: none;\n",
              "      fill: #1967D2;\n",
              "      height: 32px;\n",
              "      padding: 0 0 0 0;\n",
              "      width: 32px;\n",
              "    }\n",
              "\n",
              "    .colab-df-convert:hover {\n",
              "      background-color: #E2EBFA;\n",
              "      box-shadow: 0px 1px 2px rgba(60, 64, 67, 0.3), 0px 1px 3px 1px rgba(60, 64, 67, 0.15);\n",
              "      fill: #174EA6;\n",
              "    }\n",
              "\n",
              "    [theme=dark] .colab-df-convert {\n",
              "      background-color: #3B4455;\n",
              "      fill: #D2E3FC;\n",
              "    }\n",
              "\n",
              "    [theme=dark] .colab-df-convert:hover {\n",
              "      background-color: #434B5C;\n",
              "      box-shadow: 0px 1px 3px 1px rgba(0, 0, 0, 0.15);\n",
              "      filter: drop-shadow(0px 1px 2px rgba(0, 0, 0, 0.3));\n",
              "      fill: #FFFFFF;\n",
              "    }\n",
              "  </style>\n",
              "\n",
              "      <script>\n",
              "        const buttonEl =\n",
              "          document.querySelector('#df-6e321ee7-8ccd-4934-a94b-a3e3f388cf89 button.colab-df-convert');\n",
              "        buttonEl.style.display =\n",
              "          google.colab.kernel.accessAllowed ? 'block' : 'none';\n",
              "\n",
              "        async function convertToInteractive(key) {\n",
              "          const element = document.querySelector('#df-6e321ee7-8ccd-4934-a94b-a3e3f388cf89');\n",
              "          const dataTable =\n",
              "            await google.colab.kernel.invokeFunction('convertToInteractive',\n",
              "                                                     [key], {});\n",
              "          if (!dataTable) return;\n",
              "\n",
              "          const docLinkHtml = 'Like what you see? Visit the ' +\n",
              "            '<a target=\"_blank\" href=https://colab.research.google.com/notebooks/data_table.ipynb>data table notebook</a>'\n",
              "            + ' to learn more about interactive tables.';\n",
              "          element.innerHTML = '';\n",
              "          dataTable['output_type'] = 'display_data';\n",
              "          await google.colab.output.renderOutput(dataTable, element);\n",
              "          const docLink = document.createElement('div');\n",
              "          docLink.innerHTML = docLinkHtml;\n",
              "          element.appendChild(docLink);\n",
              "        }\n",
              "      </script>\n",
              "    </div>\n",
              "  </div>\n",
              "  "
            ]
          },
          "metadata": {},
          "execution_count": 6
        }
      ]
    },
    {
      "cell_type": "code",
      "source": [
        "# fetch the activity column - to be predicted\n",
        "y_activity = train_df['Activity']\n",
        "y_activity.shape"
      ],
      "metadata": {
        "colab": {
          "base_uri": "https://localhost:8080/"
        },
        "id": "TpRcUrIaNWNA",
        "outputId": "362d5dc1-1564-4575-e454-bd16da4c9c60"
      },
      "execution_count": null,
      "outputs": [
        {
          "output_type": "execute_result",
          "data": {
            "text/plain": [
              "(7352,)"
            ]
          },
          "metadata": {},
          "execution_count": 7
        }
      ]
    },
    {
      "cell_type": "code",
      "source": [
        "# get rid of result column and subject column from train_df \n",
        "# now train_df holds only data points\n",
        "train_df.drop(['subject' , 'Activity'], axis = 1, inplace=True)\n",
        "print(f'Now train_df size: {train_df.shape}')"
      ],
      "metadata": {
        "id": "ylch4_q_Co6W",
        "colab": {
          "base_uri": "https://localhost:8080/"
        },
        "outputId": "c9e472ff-ee56-444a-ed91-20a91ebae6a5"
      },
      "execution_count": null,
      "outputs": [
        {
          "output_type": "stream",
          "name": "stdout",
          "text": [
            "Now train_df size: (7352, 561)\n"
          ]
        }
      ]
    },
    {
      "cell_type": "markdown",
      "source": [
        "# **Convert Categorical Activity column into Numerical data**"
      ],
      "metadata": {
        "id": "pyxAm4nn_qAP"
      }
    },
    {
      "cell_type": "code",
      "source": [
        "data_classes = ['WALKING', 'WALKING_UPSTAIRS', 'WALKING_DOWNSTAIRS', 'SITTING', 'STANDING', 'LAYING']\n",
        "d = dict(zip(data_classes, range(0,6)))\n",
        "print(len(d))\n",
        "print(d)\n",
        "y_num = y_activity.map(d, na_action='ignore')"
      ],
      "metadata": {
        "id": "IPBCBtdtOrsG",
        "colab": {
          "base_uri": "https://localhost:8080/"
        },
        "outputId": "f093a98e-904b-4c8e-f8d6-558503ecfa01"
      },
      "execution_count": null,
      "outputs": [
        {
          "output_type": "stream",
          "name": "stdout",
          "text": [
            "6\n",
            "{'WALKING': 0, 'WALKING_UPSTAIRS': 1, 'WALKING_DOWNSTAIRS': 2, 'SITTING': 3, 'STANDING': 4, 'LAYING': 5}\n"
          ]
        }
      ]
    },
    {
      "cell_type": "code",
      "source": [
        "import numpy as np\n",
        "result = y_num.items()  \n",
        "# Convert object to a list\n",
        "data = list(result)  \n",
        "# Convert list to an array\n",
        "numpyArray = np.array(data)\n",
        "y = numpyArray[:,1]\n",
        "y"
      ],
      "metadata": {
        "colab": {
          "base_uri": "https://localhost:8080/"
        },
        "id": "oTA4_1dl9-aq",
        "outputId": "b8e891fe-c802-44d4-8dcc-2d26f5062694"
      },
      "execution_count": null,
      "outputs": [
        {
          "output_type": "execute_result",
          "data": {
            "text/plain": [
              "array([4, 4, 4, ..., 1, 1, 1])"
            ]
          },
          "metadata": {},
          "execution_count": 17
        }
      ]
    },
    {
      "cell_type": "markdown",
      "source": [
        "## 1. Check for Duplicates"
      ],
      "metadata": {
        "id": "evIwfJxY3WQ4"
      }
    },
    {
      "cell_type": "code",
      "source": [
        "n_duplicates = train_df.duplicated().sum()\n",
        "print(f\"You seem to have {n_duplicates} duplicates in your database.\")"
      ],
      "metadata": {
        "id": "gpPkRmnj3YTy",
        "colab": {
          "base_uri": "https://localhost:8080/"
        },
        "outputId": "640b6825-ada8-456e-fef7-58285472f21e"
      },
      "execution_count": null,
      "outputs": [
        {
          "output_type": "stream",
          "name": "stdout",
          "text": [
            "You seem to have 0 duplicates in your database.\n"
          ]
        }
      ]
    },
    {
      "cell_type": "markdown",
      "source": [
        "## 2. Check for NaN/null values"
      ],
      "metadata": {
        "id": "rEjvJCQf3Yml"
      }
    },
    {
      "cell_type": "code",
      "source": [
        "print('Size before dropping NaN values: {}'.format(train_df.shape))\n",
        "train_df = train_df.dropna()\n",
        "print('Size after dropping NaN values: {}'.format(train_df.shape))"
      ],
      "metadata": {
        "id": "sGI9wYb93l1g",
        "colab": {
          "base_uri": "https://localhost:8080/"
        },
        "outputId": "6bb9e1c2-755a-4bf0-e7b6-1d3c13e28c60"
      },
      "execution_count": null,
      "outputs": [
        {
          "output_type": "stream",
          "name": "stdout",
          "text": [
            "Size before dropping NaN values: (7352, 561)\n",
            "Size after dropping NaN values: (7352, 561)\n"
          ]
        }
      ]
    },
    {
      "cell_type": "markdown",
      "source": [
        "## 3. Check for data imbalance"
      ],
      "metadata": {
        "id": "VkxtasCY3l9c"
      }
    },
    {
      "cell_type": "code",
      "source": [
        "import seaborn as sns\n",
        "import matplotlib.pyplot as plt\n",
        "g = sns.countplot(y_activity)\n",
        "plt.show()"
      ],
      "metadata": {
        "colab": {
          "base_uri": "https://localhost:8080/",
          "height": 335
        },
        "id": "ss8f3AsC8cl1",
        "outputId": "f08e43d8-f387-4887-ffc5-b71490b1187c"
      },
      "execution_count": null,
      "outputs": [
        {
          "output_type": "stream",
          "name": "stderr",
          "text": [
            "/usr/local/lib/python3.7/dist-packages/seaborn/_decorators.py:43: FutureWarning: Pass the following variable as a keyword arg: x. From version 0.12, the only valid positional argument will be `data`, and passing other arguments without an explicit keyword will result in an error or misinterpretation.\n",
            "  FutureWarning\n"
          ]
        },
        {
          "output_type": "display_data",
          "data": {
            "text/plain": [
              "<Figure size 432x288 with 1 Axes>"
            ],
            "image/png": "[encoded data removed]"
          },
          "metadata": {
            "needs_background": "light"
          }
        }
      ]
    },
    {
      "cell_type": "markdown",
      "source": [
        "## 4. Changing feature names"
      ],
      "metadata": {
        "id": "nAEA7fu-3pcU"
      }
    },
    {
      "cell_type": "code",
      "source": [
        ""
      ],
      "metadata": {
        "id": "eQKouWE53scI"
      },
      "execution_count": null,
      "outputs": []
    },
    {
      "cell_type": "markdown",
      "source": [
        "## 5. Save this dataframe in a csv files"
      ],
      "metadata": {
        "id": "kw3q5ui83tKN"
      }
    },
    {
      "cell_type": "code",
      "source": [
        ""
      ],
      "metadata": {
        "id": "LMOFJaKc3vZX"
      },
      "execution_count": null,
      "outputs": []
    },
    {
      "cell_type": "markdown",
      "source": [
        "# Exploratory Data Analysis"
      ],
      "metadata": {
        "id": "TnaBSpdI3vhI"
      }
    },
    {
      "cell_type": "code",
      "source": [
        "train_df.describe()"
      ],
      "metadata": {
        "colab": {
          "base_uri": "https://localhost:8080/",
          "height": 394
        },
        "id": "M6gcw2GMGBYc",
        "outputId": "9de086e6-6fe8-4ec6-debb-6b052ec1a7fe"
      },
      "execution_count": null,
      "outputs": [
        {
          "output_type": "execute_result",
          "data": {
            "text/plain": [
              "       tBodyAccmeanX  tBodyAccmeanY  tBodyAccmeanZ  tBodyAccstdX  \\\n",
              "count    7352.000000    7352.000000    7352.000000   7352.000000   \n",
              "mean        0.274488      -0.017695      -0.109141     -0.605438   \n",
              "std         0.070261       0.040811       0.056635      0.448734   \n",
              "min        -1.000000      -1.000000      -1.000000     -1.000000   \n",
              "25%         0.262975      -0.024863      -0.120993     -0.992754   \n",
              "50%         0.277193      -0.017219      -0.108676     -0.946196   \n",
              "75%         0.288461      -0.010783      -0.097794     -0.242813   \n",
              "max         1.000000       1.000000       1.000000      1.000000   \n",
              "\n",
              "       tBodyAccstdY  tBodyAccstdZ  tBodyAccmadX  tBodyAccmadY  tBodyAccmadZ  \\\n",
              "count   7352.000000   7352.000000   7352.000000   7352.000000   7352.000000   \n",
              "mean      -0.510938     -0.604754     -0.630512     -0.526907     -0.606150   \n",
              "std        0.502645      0.418687      0.424073      0.485942      0.414122   \n",
              "min       -0.999873     -1.000000     -1.000000     -1.000000     -1.000000   \n",
              "25%       -0.978129     -0.980233     -0.993591     -0.978162     -0.980251   \n",
              "50%       -0.851897     -0.859365     -0.950709     -0.857328     -0.857143   \n",
              "75%       -0.034231     -0.262415     -0.292680     -0.066701     -0.265671   \n",
              "max        0.916238      1.000000      1.000000      0.967664      1.000000   \n",
              "\n",
              "       tBodyAccmaxX  ...  fBodyBodyGyroJerkMagmeanFreq  \\\n",
              "count   7352.000000  ...                   7352.000000   \n",
              "mean      -0.468604  ...                      0.125293   \n",
              "std        0.544547  ...                      0.250994   \n",
              "min       -1.000000  ...                     -1.000000   \n",
              "25%       -0.936219  ...                     -0.023692   \n",
              "50%       -0.881637  ...                      0.134000   \n",
              "75%       -0.017129  ...                      0.289096   \n",
              "max        1.000000  ...                      0.946700   \n",
              "\n",
              "       fBodyBodyGyroJerkMagskewness  fBodyBodyGyroJerkMagkurtosis  \\\n",
              "count                   7352.000000                   7352.000000   \n",
              "mean                      -0.307009                     -0.625294   \n",
              "std                        0.321011                      0.307584   \n",
              "min                       -0.995357                     -0.999765   \n",
              "25%                       -0.542602                     -0.845573   \n",
              "50%                       -0.343685                     -0.711692   \n",
              "75%                       -0.126979                     -0.503878   \n",
              "max                        0.989538                      0.956845   \n",
              "\n",
              "       angletBodyAccMeangravity  angletBodyAccJerkMeangravityMean  \\\n",
              "count               7352.000000                       7352.000000   \n",
              "mean                   0.008684                          0.002186   \n",
              "std                    0.336787                          0.448306   \n",
              "min                   -0.976580                         -1.000000   \n",
              "25%                   -0.121527                         -0.289549   \n",
              "50%                    0.009509                          0.008943   \n",
              "75%                    0.150865                          0.292861   \n",
              "max                    1.000000                          1.000000   \n",
              "\n",
              "       angletBodyGyroMeangravityMean  angletBodyGyroJerkMeangravityMean  \\\n",
              "count                    7352.000000                        7352.000000   \n",
              "mean                        0.008726                          -0.005981   \n",
              "std                         0.608303                           0.477975   \n",
              "min                        -1.000000                          -1.000000   \n",
              "25%                        -0.482273                          -0.376341   \n",
              "50%                         0.008735                          -0.000368   \n",
              "75%                         0.506187                           0.359368   \n",
              "max                         0.998702                           0.996078   \n",
              "\n",
              "       angleXgravityMean  angleYgravityMean  angleZgravityMean  \n",
              "count        7352.000000        7352.000000        7352.000000  \n",
              "mean           -0.489547           0.058593          -0.056515  \n",
              "std             0.511807           0.297480           0.279122  \n",
              "min            -1.000000          -1.000000          -1.000000  \n",
              "25%            -0.812065          -0.017885          -0.143414  \n",
              "50%            -0.709417           0.182071           0.003181  \n",
              "75%            -0.509079           0.248353           0.107659  \n",
              "max             1.000000           0.478157           1.000000  \n",
              "\n",
              "[8 rows x 561 columns]"
            ],
            "text/html": [
              "\n",
              "  <div id=\"df-84e8fd10-b433-4b34-b826-7df10b72720b\">\n",
              "    <div class=\"colab-df-container\">\n",
              "      <div>\n",
              "<style scoped>\n",
              "    .dataframe tbody tr th:only-of-type {\n",
              "        vertical-align: middle;\n",
              "    }\n",
              "\n",
              "    .dataframe tbody tr th {\n",
              "        vertical-align: top;\n",
              "    }\n",
              "\n",
              "    .dataframe thead th {\n",
              "        text-align: right;\n",
              "    }\n",
              "</style>\n",
              "<table border=\"1\" class=\"dataframe\">\n",
              "  <thead>\n",
              "    <tr style=\"text-align: right;\">\n",
              "      <th></th>\n",
              "      <th>tBodyAccmeanX</th>\n",
              "      <th>tBodyAccmeanY</th>\n",
              "      <th>tBodyAccmeanZ</th>\n",
              "      <th>tBodyAccstdX</th>\n",
              "      <th>tBodyAccstdY</th>\n",
              "      <th>tBodyAccstdZ</th>\n",
              "      <th>tBodyAccmadX</th>\n",
              "      <th>tBodyAccmadY</th>\n",
              "      <th>tBodyAccmadZ</th>\n",
              "      <th>tBodyAccmaxX</th>\n",
              "      <th>...</th>\n",
              "      <th>fBodyBodyGyroJerkMagmeanFreq</th>\n",
              "      <th>fBodyBodyGyroJerkMagskewness</th>\n",
              "      <th>fBodyBodyGyroJerkMagkurtosis</th>\n",
              "      <th>angletBodyAccMeangravity</th>\n",
              "      <th>angletBodyAccJerkMeangravityMean</th>\n",
              "      <th>angletBodyGyroMeangravityMean</th>\n",
              "      <th>angletBodyGyroJerkMeangravityMean</th>\n",
              "      <th>angleXgravityMean</th>\n",
              "      <th>angleYgravityMean</th>\n",
              "      <th>angleZgravityMean</th>\n",
              "    </tr>\n",
              "  </thead>\n",
              "  <tbody>\n",
              "    <tr>\n",
              "      <th>count</th>\n",
              "      <td>7352.000000</td>\n",
              "      <td>7352.000000</td>\n",
              "      <td>7352.000000</td>\n",
              "      <td>7352.000000</td>\n",
              "      <td>7352.000000</td>\n",
              "      <td>7352.000000</td>\n",
              "      <td>7352.000000</td>\n",
              "      <td>7352.000000</td>\n",
              "      <td>7352.000000</td>\n",
              "      <td>7352.000000</td>\n",
              "      <td>...</td>\n",
              "      <td>7352.000000</td>\n",
              "      <td>7352.000000</td>\n",
              "      <td>7352.000000</td>\n",
              "      <td>7352.000000</td>\n",
              "      <td>7352.000000</td>\n",
              "      <td>7352.000000</td>\n",
              "      <td>7352.000000</td>\n",
              "      <td>7352.000000</td>\n",
              "      <td>7352.000000</td>\n",
              "      <td>7352.000000</td>\n",
              "    </tr>\n",
              "    <tr>\n",
              "      <th>mean</th>\n",
              "      <td>0.274488</td>\n",
              "      <td>-0.017695</td>\n",
              "      <td>-0.109141</td>\n",
              "      <td>-0.605438</td>\n",
              "      <td>-0.510938</td>\n",
              "      <td>-0.604754</td>\n",
              "      <td>-0.630512</td>\n",
              "      <td>-0.526907</td>\n",
              "      <td>-0.606150</td>\n",
              "      <td>-0.468604</td>\n",
              "      <td>...</td>\n",
              "      <td>0.125293</td>\n",
              "      <td>-0.307009</td>\n",
              "      <td>-0.625294</td>\n",
              "      <td>0.008684</td>\n",
              "      <td>0.002186</td>\n",
              "      <td>0.008726</td>\n",
              "      <td>-0.005981</td>\n",
              "      <td>-0.489547</td>\n",
              "      <td>0.058593</td>\n",
              "      <td>-0.056515</td>\n",
              "    </tr>\n",
              "    <tr>\n",
              "      <th>std</th>\n",
              "      <td>0.070261</td>\n",
              "      <td>0.040811</td>\n",
              "      <td>0.056635</td>\n",
              "      <td>0.448734</td>\n",
              "      <td>0.502645</td>\n",
              "      <td>0.418687</td>\n",
              "      <td>0.424073</td>\n",
              "      <td>0.485942</td>\n",
              "      <td>0.414122</td>\n",
              "      <td>0.544547</td>\n",
              "      <td>...</td>\n",
              "      <td>0.250994</td>\n",
              "      <td>0.321011</td>\n",
              "      <td>0.307584</td>\n",
              "      <td>0.336787</td>\n",
              "      <td>0.448306</td>\n",
              "      <td>0.608303</td>\n",
              "      <td>0.477975</td>\n",
              "      <td>0.511807</td>\n",
              "      <td>0.297480</td>\n",
              "      <td>0.279122</td>\n",
              "    </tr>\n",
              "    <tr>\n",
              "      <th>min</th>\n",
              "      <td>-1.000000</td>\n",
              "      <td>-1.000000</td>\n",
              "      <td>-1.000000</td>\n",
              "      <td>-1.000000</td>\n",
              "      <td>-0.999873</td>\n",
              "      <td>-1.000000</td>\n",
              "      <td>-1.000000</td>\n",
              "      <td>-1.000000</td>\n",
              "      <td>-1.000000</td>\n",
              "      <td>-1.000000</td>\n",
              "      <td>...</td>\n",
              "      <td>-1.000000</td>\n",
              "      <td>-0.995357</td>\n",
              "      <td>-0.999765</td>\n",
              "      <td>-0.976580</td>\n",
              "      <td>-1.000000</td>\n",
              "      <td>-1.000000</td>\n",
              "      <td>-1.000000</td>\n",
              "      <td>-1.000000</td>\n",
              "      <td>-1.000000</td>\n",
              "      <td>-1.000000</td>\n",
              "    </tr>\n",
              "    <tr>\n",
              "      <th>25%</th>\n",
              "      <td>0.262975</td>\n",
              "      <td>-0.024863</td>\n",
              "      <td>-0.120993</td>\n",
              "      <td>-0.992754</td>\n",
              "      <td>-0.978129</td>\n",
              "      <td>-0.980233</td>\n",
              "      <td>-0.993591</td>\n",
              "      <td>-0.978162</td>\n",
              "      <td>-0.980251</td>\n",
              "      <td>-0.936219</td>\n",
              "      <td>...</td>\n",
              "      <td>-0.023692</td>\n",
              "      <td>-0.542602</td>\n",
              "      <td>-0.845573</td>\n",
              "      <td>-0.121527</td>\n",
              "      <td>-0.289549</td>\n",
              "      <td>-0.482273</td>\n",
              "      <td>-0.376341</td>\n",
              "      <td>-0.812065</td>\n",
              "      <td>-0.017885</td>\n",
              "      <td>-0.143414</td>\n",
              "    </tr>\n",
              "    <tr>\n",
              "      <th>50%</th>\n",
              "      <td>0.277193</td>\n",
              "      <td>-0.017219</td>\n",
              "      <td>-0.108676</td>\n",
              "      <td>-0.946196</td>\n",
              "      <td>-0.851897</td>\n",
              "      <td>-0.859365</td>\n",
              "      <td>-0.950709</td>\n",
              "      <td>-0.857328</td>\n",
              "      <td>-0.857143</td>\n",
              "      <td>-0.881637</td>\n",
              "      <td>...</td>\n",
              "      <td>0.134000</td>\n",
              "      <td>-0.343685</td>\n",
              "      <td>-0.711692</td>\n",
              "      <td>0.009509</td>\n",
              "      <td>0.008943</td>\n",
              "      <td>0.008735</td>\n",
              "      <td>-0.000368</td>\n",
              "      <td>-0.709417</td>\n",
              "      <td>0.182071</td>\n",
              "      <td>0.003181</td>\n",
              "    </tr>\n",
              "    <tr>\n",
              "      <th>75%</th>\n",
              "      <td>0.288461</td>\n",
              "      <td>-0.010783</td>\n",
              "      <td>-0.097794</td>\n",
              "      <td>-0.242813</td>\n",
              "      <td>-0.034231</td>\n",
              "      <td>-0.262415</td>\n",
              "      <td>-0.292680</td>\n",
              "      <td>-0.066701</td>\n",
              "      <td>-0.265671</td>\n",
              "      <td>-0.017129</td>\n",
              "      <td>...</td>\n",
              "      <td>0.289096</td>\n",
              "      <td>-0.126979</td>\n",
              "      <td>-0.503878</td>\n",
              "      <td>0.150865</td>\n",
              "      <td>0.292861</td>\n",
              "      <td>0.506187</td>\n",
              "      <td>0.359368</td>\n",
              "      <td>-0.509079</td>\n",
              "      <td>0.248353</td>\n",
              "      <td>0.107659</td>\n",
              "    </tr>\n",
              "    <tr>\n",
              "      <th>max</th>\n",
              "      <td>1.000000</td>\n",
              "      <td>1.000000</td>\n",
              "      <td>1.000000</td>\n",
              "      <td>1.000000</td>\n",
              "      <td>0.916238</td>\n",
              "      <td>1.000000</td>\n",
              "      <td>1.000000</td>\n",
              "      <td>0.967664</td>\n",
              "      <td>1.000000</td>\n",
              "      <td>1.000000</td>\n",
              "      <td>...</td>\n",
              "      <td>0.946700</td>\n",
              "      <td>0.989538</td>\n",
              "      <td>0.956845</td>\n",
              "      <td>1.000000</td>\n",
              "      <td>1.000000</td>\n",
              "      <td>0.998702</td>\n",
              "      <td>0.996078</td>\n",
              "      <td>1.000000</td>\n",
              "      <td>0.478157</td>\n",
              "      <td>1.000000</td>\n",
              "    </tr>\n",
              "  </tbody>\n",
              "</table>\n",
              "<p>8 rows × 561 columns</p>\n",
              "</div>\n",
              "      <button class=\"colab-df-convert\" onclick=\"convertToInteractive('df-84e8fd10-b433-4b34-b826-7df10b72720b')\"\n",
              "              title=\"Convert this dataframe to an interactive table.\"\n",
              "              style=\"display:none;\">\n",
              "        \n",
              "  <svg xmlns=\"http://www.w3.org/2000/svg\" height=\"24px\"viewBox=\"0 0 24 24\"\n",
              "       width=\"24px\">\n",
              "    <path d=\"M0 0h24v24H0V0z\" fill=\"none\"/>\n",
              "    <path d=\"M18.56 5.44l.94 2.06.94-2.06 2.06-.94-2.06-.94-.94-2.06-.94 2.06-2.06.94zm-11 1L8.5 8.5l.94-2.06 2.06-.94-2.06-.94L8.5 2.5l-.94 2.06-2.06.94zm10 10l.94 2.06.94-2.06 2.06-.94-2.06-.94-.94-2.06-.94 2.06-2.06.94z\"/><path d=\"M17.41 7.96l-1.37-1.37c-.4-.4-.92-.59-1.43-.59-.52 0-1.04.2-1.43.59L10.3 9.45l-7.72 7.72c-.78.78-.78 2.05 0 2.83L4 21.41c.39.39.9.59 1.41.59.51 0 1.02-.2 1.41-.59l7.78-7.78 2.81-2.81c.8-.78.8-2.07 0-2.86zM5.41 20L4 18.59l7.72-7.72 1.47 1.35L5.41 20z\"/>\n",
              "  </svg>\n",
              "      </button>\n",
              "      \n",
              "  <style>\n",
              "    .colab-df-container {\n",
              "      display:flex;\n",
              "      flex-wrap:wrap;\n",
              "      gap: 12px;\n",
              "    }\n",
              "\n",
              "    .colab-df-convert {\n",
              "      background-color: #E8F0FE;\n",
              "      border: none;\n",
              "      border-radius: 50%;\n",
              "      cursor: pointer;\n",
              "      display: none;\n",
              "      fill: #1967D2;\n",
              "      height: 32px;\n",
              "      padding: 0 0 0 0;\n",
              "      width: 32px;\n",
              "    }\n",
              "\n",
              "    .colab-df-convert:hover {\n",
              "      background-color: #E2EBFA;\n",
              "      box-shadow: 0px 1px 2px rgba(60, 64, 67, 0.3), 0px 1px 3px 1px rgba(60, 64, 67, 0.15);\n",
              "      fill: #174EA6;\n",
              "    }\n",
              "\n",
              "    [theme=dark] .colab-df-convert {\n",
              "      background-color: #3B4455;\n",
              "      fill: #D2E3FC;\n",
              "    }\n",
              "\n",
              "    [theme=dark] .colab-df-convert:hover {\n",
              "      background-color: #434B5C;\n",
              "      box-shadow: 0px 1px 3px 1px rgba(0, 0, 0, 0.15);\n",
              "      filter: drop-shadow(0px 1px 2px rgba(0, 0, 0, 0.3));\n",
              "      fill: #FFFFFF;\n",
              "    }\n",
              "  </style>\n",
              "\n",
              "      <script>\n",
              "        const buttonEl =\n",
              "          document.querySelector('#df-84e8fd10-b433-4b34-b826-7df10b72720b button.colab-df-convert');\n",
              "        buttonEl.style.display =\n",
              "          google.colab.kernel.accessAllowed ? 'block' : 'none';\n",
              "\n",
              "        async function convertToInteractive(key) {\n",
              "          const element = document.querySelector('#df-84e8fd10-b433-4b34-b826-7df10b72720b');\n",
              "          const dataTable =\n",
              "            await google.colab.kernel.invokeFunction('convertToInteractive',\n",
              "                                                     [key], {});\n",
              "          if (!dataTable) return;\n",
              "\n",
              "          const docLinkHtml = 'Like what you see? Visit the ' +\n",
              "            '<a target=\"_blank\" href=https://colab.research.google.com/notebooks/data_table.ipynb>data table notebook</a>'\n",
              "            + ' to learn more about interactive tables.';\n",
              "          element.innerHTML = '';\n",
              "          dataTable['output_type'] = 'display_data';\n",
              "          await google.colab.output.renderOutput(dataTable, element);\n",
              "          const docLink = document.createElement('div');\n",
              "          docLink.innerHTML = docLinkHtml;\n",
              "          element.appendChild(docLink);\n",
              "        }\n",
              "      </script>\n",
              "    </div>\n",
              "  </div>\n",
              "  "
            ]
          },
          "metadata": {},
          "execution_count": 23
        }
      ]
    },
    {
      "cell_type": "code",
      "source": [
        "print('Too many features here: {}'.format(train_df.dtypes.count()))\n",
        "unique_values = train_df.select_dtypes(include=\"number\").nunique().sort_values()\n",
        "print('Let\\'s look at the number of unique values per feature.')\n",
        "unique_values.plot.bar(logy=True, figsize=(15,4), title=\"Unique values per feature\")\n",
        "ax = plt.gca()\n",
        "ax.axes.xaxis.set_ticklabels([]);\n",
        "#ax.axes.xaxis.set_visible(False);\n",
        "#plt.axis('off');"
      ],
      "metadata": {
        "colab": {
          "base_uri": "https://localhost:8080/",
          "height": 303
        },
        "id": "M_U3qWSOINck",
        "outputId": "27ba8a44-20c1-4a12-ecc3-ef9d6fe6073b"
      },
      "execution_count": null,
      "outputs": [
        {
          "output_type": "stream",
          "name": "stdout",
          "text": [
            "Too many features here: 561\n",
            "Let's look at the number of unique values per feature.\n"
          ]
        },
        {
          "output_type": "display_data",
          "data": {
            "text/plain": [
              "<Figure size 1080x288 with 1 Axes>"
            ],
            "image/png": "[encoded data removed]"
          },
          "metadata": {
            "needs_background": "light"
          }
        }
      ]
    },
    {
      "cell_type": "markdown",
      "source": [
        "# Apply t-sne on the data"
      ],
      "metadata": {
        "id": "saCER2Q-3yRx"
      }
    },
    {
      "cell_type": "code",
      "source": [
        "import time\n",
        "import matplotlib.patheffects as PathEffects\n",
        "\n",
        "import seaborn as sns\n",
        "sns.set_style('darkgrid')\n",
        "sns.set_palette('muted')\n",
        "sns.set_context(\"notebook\", font_scale=1.5,\n",
        "                rc={\"lines.linewidth\": 2.5})\n",
        "RS = 123"
      ],
      "metadata": {
        "id": "P942Y0HY4C6_"
      },
      "execution_count": null,
      "outputs": []
    },
    {
      "cell_type": "code",
      "source": [
        "def fashion_scatter(x, colors):\n",
        "    # choose a color palette with seaborn.\n",
        "    num_classes = len(np.unique(colors))\n",
        "    palette = np.array(sns.color_palette(\"hls\", num_classes))\n",
        "\n",
        "    # create a scatter plot.\n",
        "    f = plt.figure(figsize=(8, 8))\n",
        "    ax = plt.subplot(aspect='equal')\n",
        "    sc = ax.scatter(x[:,0], x[:,1], lw=0, s=40, c=palette[colors.astype(np.int)])\n",
        "    plt.xlim(-25, 25)\n",
        "    plt.ylim(-25, 25)\n",
        "    ax.axis('off')\n",
        "    ax.axis('tight')\n",
        "\n",
        "    # add the labels for each digit corresponding to the label\n",
        "    txts = []\n",
        "\n",
        "    for i in range(num_classes):\n",
        "\n",
        "        # Position of each label at median of data points.\n",
        "\n",
        "        xtext, ytext = np.median(x[colors == i, :], axis=0)\n",
        "        txt = ax.text(xtext, ytext, str(i), fontsize=24)\n",
        "        txt.set_path_effects([\n",
        "            PathEffects.Stroke(linewidth=5, foreground=\"w\"),\n",
        "            PathEffects.Normal()])\n",
        "        txts.append(txt)\n",
        "\n",
        "    return f, ax, sc, txts"
      ],
      "metadata": {
        "id": "FXJy-N28MZcc"
      },
      "execution_count": null,
      "outputs": []
    },
    {
      "cell_type": "code",
      "source": [
        "from sklearn.decomposition import PCA\n",
        "\n",
        "time_start = time.time()\n",
        "\n",
        "pca = PCA(n_components=4)\n",
        "pca_result = pca.fit_transform(train_df)\n",
        "\n",
        "print('PCA done! Time elapsed: {} seconds'.format(time.time()-time_start))"
      ],
      "metadata": {
        "colab": {
          "base_uri": "https://localhost:8080/"
        },
        "id": "5jqonLrlMf1k",
        "outputId": "8c89beb0-88f7-4031-e8fe-04dce1751e5c"
      },
      "execution_count": null,
      "outputs": [
        {
          "output_type": "stream",
          "name": "stdout",
          "text": [
            "PCA done! Time elapsed: 0.3975710868835449 seconds\n"
          ]
        }
      ]
    },
    {
      "cell_type": "code",
      "source": [
        "pca_df = pd.DataFrame(columns = ['pca1','pca2','pca3','pca4'])\n",
        "\n",
        "pca_df['pca1'] = pca_result[:,0]\n",
        "pca_df['pca2'] = pca_result[:,1]\n",
        "pca_df['pca3'] = pca_result[:,2]\n",
        "pca_df['pca4'] = pca_result[:,3]\n",
        "\n",
        "print('Variance explained per principal component: {}'.format(pca.explained_variance_ratio_))"
      ],
      "metadata": {
        "colab": {
          "base_uri": "https://localhost:8080/"
        },
        "id": "J_qElB-0MzAy",
        "outputId": "c22f2f40-3110-4f07-8aa5-7bca55f1c2f9"
      },
      "execution_count": null,
      "outputs": [
        {
          "output_type": "stream",
          "name": "stdout",
          "text": [
            "Variance explained per principal component: [0.6255444  0.04913023 0.04121467 0.01874956]\n"
          ]
        }
      ]
    },
    {
      "cell_type": "code",
      "source": [
        "print(train_df.shape)\n",
        "print(y_activity.shape)"
      ],
      "metadata": {
        "colab": {
          "base_uri": "https://localhost:8080/"
        },
        "id": "rcu_iO_DtJlD",
        "outputId": "63a3edc8-f23d-444c-9f5a-dbc064d1313f"
      },
      "execution_count": null,
      "outputs": [
        {
          "output_type": "stream",
          "name": "stdout",
          "text": [
            "(7352, 561)\n",
            "(7352,)\n"
          ]
        }
      ]
    },
    {
      "cell_type": "code",
      "source": [
        "print(pca_df.shape)\n",
        "print(y.shape)"
      ],
      "metadata": {
        "colab": {
          "base_uri": "https://localhost:8080/"
        },
        "id": "u-QhZlhIzazx",
        "outputId": "f676cb45-0d5f-40f7-e6b1-004b312c0900"
      },
      "execution_count": null,
      "outputs": [
        {
          "output_type": "stream",
          "name": "stdout",
          "text": [
            "(7352, 4)\n",
            "(7352,)\n"
          ]
        }
      ]
    },
    {
      "cell_type": "code",
      "source": [
        "top_two_comp = pca_df[['pca1','pca2']] # taking first and second principal component\n",
        "\n",
        "fashion_scatter(top_two_comp.values, y) # Visualizing the PCA output"
      ],
      "metadata": {
        "colab": {
          "base_uri": "https://localhost:8080/",
          "height": 694
        },
        "id": "9ON1QCV-NCCq",
        "outputId": "3a14c9ba-db30-409d-a17d-912c311d9743"
      },
      "execution_count": null,
      "outputs": [
        {
          "output_type": "stream",
          "name": "stderr",
          "text": [
            "/usr/local/lib/python3.7/dist-packages/ipykernel_launcher.py:9: DeprecationWarning: `np.int` is a deprecated alias for the builtin `int`. To silence this warning, use `int` by itself. Doing this will not modify any behavior and is safe. When replacing `np.int`, you may wish to use e.g. `np.int64` or `np.int32` to specify the precision. If you wish to review your current use, check the release note link for additional information.\n",
            "Deprecated in NumPy 1.20; for more details and guidance: https://numpy.org/devdocs/release/1.20.0-notes.html#deprecations\n",
            "  if __name__ == '__main__':\n"
          ]
        },
        {
          "output_type": "execute_result",
          "data": {
            "text/plain": [
              "(<Figure size 576x576 with 1 Axes>,\n",
              " <matplotlib.axes._subplots.AxesSubplot at 0x7f1fbf79e810>,\n",
              " <matplotlib.collections.PathCollection at 0x7f1fbf7cced0>,\n",
              " [Text(5.544130756241013, 0.3157187954194347, '0'),\n",
              "  Text(5.048257107289464, -1.6534654723564708, '1'),\n",
              "  Text(7.749785797781683, 0.8232335656132025, '2'),\n",
              "  Text(-5.450415712091123, 0.32861522275787025, '3'),\n",
              "  Text(-5.170077748580911, -0.23113062615148156, '4'),\n",
              "  Text(-5.775559173761604, 0.6294922367143472, '5')])"
            ]
          },
          "metadata": {},
          "execution_count": 41
        },
        {
          "output_type": "display_data",
          "data": {
            "text/plain": [
              "<Figure size 576x576 with 1 Axes>"
            ],
            "image/png": "[encoded data removed]"
          },
          "metadata": {}
        }
      ]
    },
    {
      "cell_type": "code",
      "source": [
        "from sklearn.manifold import TSNE\n",
        "\n",
        "time_start = time.time()\n",
        "\n",
        "fashion_tsne = TSNE(random_state=RS).fit_transform(train_df)\n",
        "\n",
        "print('t-SNE done! Time elapsed: {} seconds'.format(time.time()-time_start))"
      ],
      "metadata": {
        "colab": {
          "base_uri": "https://localhost:8080/"
        },
        "id": "pcqk7SOu1fRi",
        "outputId": "bfa81699-cb7a-449c-bb96-179885891922"
      },
      "execution_count": null,
      "outputs": [
        {
          "output_type": "stream",
          "name": "stderr",
          "text": [
            "/usr/local/lib/python3.7/dist-packages/sklearn/manifold/_t_sne.py:783: FutureWarning: The default initialization in TSNE will change from 'random' to 'pca' in 1.2.\n",
            "  FutureWarning,\n",
            "/usr/local/lib/python3.7/dist-packages/sklearn/manifold/_t_sne.py:793: FutureWarning: The default learning rate in TSNE will change from 200.0 to 'auto' in 1.2.\n",
            "  FutureWarning,\n"
          ]
        },
        {
          "output_type": "stream",
          "name": "stdout",
          "text": [
            "t-SNE done! Time elapsed: 42.01738238334656 seconds\n"
          ]
        }
      ]
    },
    {
      "cell_type": "code",
      "source": [
        "fashion_scatter(fashion_tsne, y)"
      ],
      "metadata": {
        "colab": {
          "base_uri": "https://localhost:8080/",
          "height": 694
        },
        "id": "pjAwwwA41596",
        "outputId": "27897c6c-aa6c-4062-cd30-1f25eee73678"
      },
      "execution_count": null,
      "outputs": [
        {
          "output_type": "stream",
          "name": "stderr",
          "text": [
            "/usr/local/lib/python3.7/dist-packages/ipykernel_launcher.py:9: DeprecationWarning: `np.int` is a deprecated alias for the builtin `int`. To silence this warning, use `int` by itself. Doing this will not modify any behavior and is safe. When replacing `np.int`, you may wish to use e.g. `np.int64` or `np.int32` to specify the precision. If you wish to review your current use, check the release note link for additional information.\n",
            "Deprecated in NumPy 1.20; for more details and guidance: https://numpy.org/devdocs/release/1.20.0-notes.html#deprecations\n",
            "  if __name__ == '__main__':\n"
          ]
        },
        {
          "output_type": "execute_result",
          "data": {
            "text/plain": [
              "(<Figure size 576x576 with 1 Axes>,\n",
              " <matplotlib.axes._subplots.AxesSubplot at 0x7f1fbc870910>,\n",
              " <matplotlib.collections.PathCollection at 0x7f1fbcc93810>,\n",
              " [Text(-9.087687, -46.846565, '0'),\n",
              "  Text(-34.976135, 8.86558, '1'),\n",
              "  Text(-55.98769, -26.527689, '2'),\n",
              "  Text(43.42809, 12.255817, '3'),\n",
              "  Text(47.997887, -14.63398, '4'),\n",
              "  Text(0.24662067, 61.14888, '5')])"
            ]
          },
          "metadata": {},
          "execution_count": 43
        },
        {
          "output_type": "display_data",
          "data": {
            "text/plain": [
              "<Figure size 576x576 with 1 Axes>"
            ],
            "image/png": "[encoded data removed]"
          },
          "metadata": {}
        }
      ]
    },
    {
      "cell_type": "code",
      "source": [
        "time_start = time.time()\n",
        "\n",
        "pca_50 = PCA(n_components=50)\n",
        "pca_result_50 = pca_50.fit_transform(train_df)\n",
        "\n",
        "print('PCA with 50 components done! Time elapsed: {} seconds'.format(time.time()-time_start))\n",
        "\n",
        "print('Cumulative variance explained by 50 principal components: {}'.format(np.sum(pca_50.explained_variance_ratio_)))"
      ],
      "metadata": {
        "colab": {
          "base_uri": "https://localhost:8080/"
        },
        "id": "DcMI941F1_gl",
        "outputId": "18ecef44-4e26-4c27-f7fb-e08f8666f02a"
      },
      "execution_count": null,
      "outputs": [
        {
          "output_type": "stream",
          "name": "stdout",
          "text": [
            "PCA with 50 components done! Time elapsed: 0.6423139572143555 seconds\n",
            "Cumulative variance explained by 50 principal components: 0.9308504159278408\n"
          ]
        }
      ]
    },
    {
      "cell_type": "code",
      "source": [
        "time_start = time.time()\n",
        "\n",
        "\n",
        "fashion_pca_tsne = TSNE(random_state=RS).fit_transform(pca_result_50)\n",
        "\n",
        "print('t-SNE done! Time elapsed: {} seconds'.format(time.time()-time_start))"
      ],
      "metadata": {
        "colab": {
          "base_uri": "https://localhost:8080/"
        },
        "id": "YcmoYjMx2R5j",
        "outputId": "7b3c5fd5-7ca3-4de4-b1a6-856021ba663b"
      },
      "execution_count": null,
      "outputs": [
        {
          "output_type": "stream",
          "name": "stderr",
          "text": [
            "/usr/local/lib/python3.7/dist-packages/sklearn/manifold/_t_sne.py:783: FutureWarning: The default initialization in TSNE will change from 'random' to 'pca' in 1.2.\n",
            "  FutureWarning,\n",
            "/usr/local/lib/python3.7/dist-packages/sklearn/manifold/_t_sne.py:793: FutureWarning: The default learning rate in TSNE will change from 200.0 to 'auto' in 1.2.\n",
            "  FutureWarning,\n"
          ]
        },
        {
          "output_type": "stream",
          "name": "stdout",
          "text": [
            "t-SNE done! Time elapsed: 39.90103530883789 seconds\n"
          ]
        }
      ]
    },
    {
      "cell_type": "code",
      "source": [
        "fashion_scatter(fashion_pca_tsne, y)"
      ],
      "metadata": {
        "colab": {
          "base_uri": "https://localhost:8080/",
          "height": 694
        },
        "id": "Yds7p0gY2jbx",
        "outputId": "ded1f197-71f8-4ec8-ac26-32a25c2847c8"
      },
      "execution_count": null,
      "outputs": [
        {
          "output_type": "stream",
          "name": "stderr",
          "text": [
            "/usr/local/lib/python3.7/dist-packages/ipykernel_launcher.py:9: DeprecationWarning: `np.int` is a deprecated alias for the builtin `int`. To silence this warning, use `int` by itself. Doing this will not modify any behavior and is safe. When replacing `np.int`, you may wish to use e.g. `np.int64` or `np.int32` to specify the precision. If you wish to review your current use, check the release note link for additional information.\n",
            "Deprecated in NumPy 1.20; for more details and guidance: https://numpy.org/devdocs/release/1.20.0-notes.html#deprecations\n",
            "  if __name__ == '__main__':\n"
          ]
        },
        {
          "output_type": "execute_result",
          "data": {
            "text/plain": [
              "(<Figure size 576x576 with 1 Axes>,\n",
              " <matplotlib.axes._subplots.AxesSubplot at 0x7f1fbcad1790>,\n",
              " <matplotlib.collections.PathCollection at 0x7f1fbcafce50>,\n",
              " [Text(-19.857754, -53.44935, '0'),\n",
              "  Text(-19.899702, -17.987116, '1'),\n",
              "  Text(-54.37588, -6.7135906, '2'),\n",
              "  Text(34.531925, 9.5649605, '3'),\n",
              "  Text(54.979393, -5.9027348, '4'),\n",
              "  Text(-5.098242, 62.329296, '5')])"
            ]
          },
          "metadata": {},
          "execution_count": 46
        },
        {
          "output_type": "display_data",
          "data": {
            "text/plain": [
              "<Figure size 576x576 with 1 Axes>"
            ],
            "image/png": "[encoded data removed]"
          },
          "metadata": {}
        }
      ]
    },
    {
      "cell_type": "code",
      "source": [
        "from google.colab import drive\n",
        "drive.flush_and_unmount()"
      ],
      "metadata": {
        "colab": {
          "base_uri": "https://localhost:8080/"
        },
        "id": "cqkfVNJhK-2c",
        "outputId": "d4ca6232-7a40-4f5e-ffe1-2de714bf9175"
      },
      "execution_count": null,
      "outputs": [
        {
          "output_type": "stream",
          "name": "stdout",
          "text": [
            "Drive not mounted, so nothing to flush and unmount.\n"
          ]
        }
      ]
    }
  ]
}